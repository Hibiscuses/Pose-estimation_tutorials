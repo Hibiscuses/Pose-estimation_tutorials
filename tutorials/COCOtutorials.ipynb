{
 "cells": [
  {
   "cell_type": "markdown",
   "metadata": {},
   "source": [
    "# MSCOCO2017 PythonAPI tutorials"
   ]
  },
  {
   "cell_type": "markdown",
   "metadata": {},
   "source": [
    "关于coco的pythonAPI，请先安装pycocotools：\n",
    "- ubuntu和mac上直接pip install pycocotools\n",
    "- windows用户先git clone https://github.com/cocodataset/cocoapi.git ，之后去cd到pythonapi目录,然后\n",
    "> python setup.py build_ext --inplace\n",
    "\n",
    "之后修改setup.py中的compile_args,在下面这一行：\n",
    ">extra_compile_args=['-Wno-cpp', '-Wno-unused-function', '-std=c99']\n",
    "\n",
    "在该行代码中去掉前两个flag，就可以顺利通过编译"
   ]
  },
  {
   "cell_type": "code",
   "execution_count": 3,
   "metadata": {},
   "outputs": [],
   "source": [
    "from pycocotools.coco import COCO\n",
    "import numpy as np\n",
    "import skimage.io as io\n",
    "import matplotlib.pyplot as plt\n",
    "import pylab\n",
    "pylab.rcParams['figure.figsize'] = (8.0, 10.0)"
   ]
  },
  {
   "cell_type": "markdown",
   "metadata": {},
   "source": [
    "参照cocoapi的官方repo，我们先下载coco2017数据集，其中包含了保存图片信息的json文件，我们在这读取instance_2017val集上的文件"
   ]
  },
  {
   "cell_type": "code",
   "execution_count": 7,
   "metadata": {},
   "outputs": [],
   "source": [
    "dataDir='./'\n",
    "dataType='val2017'\n",
    "annFile='{}/instances_{}.json'.format(dataDir,dataType)"
   ]
  },
  {
   "cell_type": "markdown",
   "metadata": {},
   "source": [
    "读取文件后，直接实例化一个COCO类，之后就可以调用其中的操作"
   ]
  },
  {
   "cell_type": "code",
   "execution_count": 8,
   "metadata": {},
   "outputs": [
    {
     "name": "stdout",
     "output_type": "stream",
     "text": [
      "loading annotations into memory...\n",
      "Done (t=0.62s)\n",
      "creating index...\n",
      "index created!\n"
     ]
    }
   ],
   "source": [
    "coco=COCO(annFile)"
   ]
  },
  {
   "cell_type": "markdown",
   "metadata": {},
   "source": [
    "可以查看cocoapi中提供的源码，我们按照官网的实例解析，先调用loadCats方法，该方法根据传入的id返回一个cat类的图信息,信息包括{id,name,supercatogory}，name中是图中信息,supercategory是该内容所属的大类别。"
   ]
  },
  {
   "cell_type": "code",
   "execution_count": 27,
   "metadata": {},
   "outputs": [],
   "source": [
    "cats = coco.loadCats(coco.getCatIds())\n",
    "nms = [cat['name'] for cat in cats]\n",
    "nms = set([cat['supercategory'] for cat in cats])"
   ]
  }
 ],
 "metadata": {
  "kernelspec": {
   "display_name": "Python 3",
   "language": "python",
   "name": "python3"
  },
  "language_info": {
   "codemirror_mode": {
    "name": "ipython",
    "version": 3
   },
   "file_extension": ".py",
   "mimetype": "text/x-python",
   "name": "python",
   "nbconvert_exporter": "python",
   "pygments_lexer": "ipython3",
   "version": "3.6.4"
  }
 },
 "nbformat": 4,
 "nbformat_minor": 2
}
